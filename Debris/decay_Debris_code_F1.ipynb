{
 "cells": [
  {
   "cell_type": "markdown",
   "id": "c4786ca0",
   "metadata": {},
   "source": [
    "# Import Libraries"
   ]
  },
  {
   "cell_type": "code",
   "execution_count": null,
   "id": "0b7e5775",
   "metadata": {},
   "outputs": [],
   "source": [
    "import pandas as pd\n",
    "import matplotlib.pyplot as plt\n",
    "import seaborn as sns\n",
    "import numpy as np"
   ]
  },
  {
   "cell_type": "code",
   "execution_count": null,
   "id": "bc180c5b",
   "metadata": {},
   "outputs": [],
   "source": [
    "# Reading the file\n",
    "df = pd.read_csv('space_decay.csv')"
   ]
  },
  {
   "cell_type": "markdown",
   "id": "c84abf76",
   "metadata": {},
   "source": [
    " # Data Cleaning\n"
   ]
  },
  {
   "cell_type": "markdown",
   "id": "59466249",
   "metadata": {},
   "source": [
    "Handling the Missing Values"
   ]
  },
  {
   "cell_type": "code",
   "execution_count": null,
   "id": "83476775",
   "metadata": {},
   "outputs": [],
   "source": [
    "# Accessing heads\n",
    "df.head(1)\n"
   ]
  },
  {
   "cell_type": "code",
   "execution_count": null,
   "id": "36bbeed3",
   "metadata": {},
   "outputs": [],
   "source": [
    "# checking for null values\n",
    "df.isnull().sum()"
   ]
  },
  {
   "cell_type": "code",
   "execution_count": null,
   "id": "b8118655",
   "metadata": {},
   "outputs": [],
   "source": [
    "# if null values are found in decay_date change it\n",
    "# The object is active if the decay_date is null\n",
    "df['IS_ACTIVE'] = df['DECAY_DATE'].isna()\n",
    "print(df['IS_ACTIVE'])"
   ]
  },
  {
   "cell_type": "markdown",
   "id": "c4887e16",
   "metadata": {},
   "source": [
    "Invalid Value Detection"
   ]
  },
  {
   "cell_type": "code",
   "execution_count": null,
   "id": "18ec5e12",
   "metadata": {},
   "outputs": [],
   "source": [
    "# Checking for eccentricity \n",
    "#(It is checking for eccentricity values and updated the original column)\n",
    "df = df[(df['ECCENTRICITY'] >= 0) & (df['ECCENTRICITY'] < 1)]\n",
    "print(df['ECCENTRICITY'])\n",
    "\n",
    "# Checking for inclination\n",
    "df = df[(df['INCLINATION'] >= 0)& (df['INCLINATION']<=180)]\n",
    "print(df['INCLINATION'])\n",
    "\n",
    "# Checking for mean motion\n",
    "df=df[(df['MEAN_MOTION']>=0)]\n",
    "print(df['MEAN_MOTION'])\n",
    "\n",
    "# Checking for semi-major axis\n",
    "df=df[(df['SEMIMAJOR_AXIS']> 6378)]\n",
    "print(df['SEMIMAJOR_AXIS'])"
   ]
  },
  {
   "cell_type": "markdown",
   "id": "3d6ead59",
   "metadata": {},
   "source": [
    "Standardization of Units and Formats"
   ]
  },
  {
   "cell_type": "code",
   "execution_count": null,
   "id": "bc12c5b5",
   "metadata": {},
   "outputs": [],
   "source": [
    "# Converting all the dates in the standard format\n",
    " # Convert to datetime format\n",
    "date_columns = ['EPOCH', 'CREATION_DATE', 'DECAY_DATE', 'LAUNCH_DATE']\n",
    "for i in date_columns:\n",
    "    df[i] = pd.to_datetime(df[i], errors='coerce')\n",
    "\n",
    "## ORBITAL DYNAMICS AND DERIVED METRICS ##\n",
    "\n",
    "# Altitude at Perigee / Apogee  \n",
    "df['Perigee_Altitude'] = df['SEMIMAJOR_AXIS']*(1 - df['ECCENTRICITY']) - 6378.137\n",
    "df['Apogee_Altitude'] = df['SEMIMAJOR_AXIS']*(1 + df['ECCENTRICITY']) - 6378.137\n",
    "print(df['Perigee_Altitude'])\n",
    "print(df['Apogee_Altitude'])\n",
    "\n",
    "# Orbit Regime classification (LEO, MEO, GEO, HEO)\n",
    "def classify_orbit_regime(Perigee_Altitude):\n",
    "    if  Perigee_Altitude >= 160 and Perigee_Altitude<= 2000:\n",
    "        return 'LEO'\n",
    "    elif Perigee_Altitude> 2000 and Perigee_Altitude < 35786:\n",
    "        return 'MEO'\n",
    "    elif np.isclose(Perigee_Altitude, 35786, atol=100):\n",
    "        return 'GEO'\n",
    "    elif Perigee_Altitude > 35786:\n",
    "        return 'HEO'\n",
    "    else:\n",
    "        return 'Unknown'\n",
    "\n",
    "df['ORBIT_REGIME'] = df['Perigee_Altitude'].apply(classify_orbit_regime)\n",
    "print(df['ORBIT_REGIME'])\n",
    "\n",
    "# Orbit type based on inclination (Polar, Non-Polar)\n",
    "def classify_orbit_inclination(INCLINATION):\n",
    "  if INCLINATION < 90 :\n",
    "    return 'Non Polar Orbit'\n",
    "  else :\n",
    "    return 'Polar orbit'\n",
    "df['ORBIT_ORIENTATION'] = df['INCLINATION'].apply(classify_orbit_inclination)\n",
    "print(df['ORBIT_ORIENTATION'])"
   ]
  },
  {
   "cell_type": "markdown",
   "id": "428a92e1",
   "metadata": {},
   "source": [
    "# Exploratory Data Analysis (EDA)"
   ]
  },
  {
   "cell_type": "markdown",
   "id": "a1cff4ca",
   "metadata": {},
   "source": [
    " Object distribution by type (payload, rocket body or debris)"
   ]
  },
  {
   "cell_type": "code",
   "execution_count": null,
   "id": "99ac6434",
   "metadata": {},
   "outputs": [],
   "source": [
    "# to check all the unique objects with OBJECT_TYPE\n",
    "print(df['OBJECT_TYPE'].unique())\n",
    "def classify_object_type(OBJECT_TYPE):\n",
    "    if  OBJECT_TYPE == 'PAYLOAD':\n",
    "        return 'PAYLOAD'\n",
    "    elif OBJECT_TYPE == 'ROCKET BODY':\n",
    "        return 'ROCKET BODY'\n",
    "    elif OBJECT_TYPE == 'DEBRIS':\n",
    "       return 'DEBRIS'\n",
    "    else:\n",
    "        return 'Unknown'\n",
    "\n",
    "df['OBJECT_TYPE_CLASSIFICATION'] = df['OBJECT_TYPE'].apply(classify_object_type)\n",
    "print(df['OBJECT_TYPE_CLASSIFICATION'])"
   ]
  },
  {
   "cell_type": "markdown",
   "id": "8e5721ad",
   "metadata": {},
   "source": [
    " Plotting "
   ]
  },
  {
   "cell_type": "code",
   "execution_count": null,
   "id": "897e0f3b",
   "metadata": {},
   "outputs": [],
   "source": [
    "# Plotting the different object types to generate a pie-chart\n",
    "# Count the number of satellites, payload and debris\n",
    "type_counts = df['OBJECT_TYPE'].value_counts()\n",
    "\n",
    "# Make pie chart\n",
    "plt.figure(figsize=(6,6))\n",
    "plt.pie(type_counts, labels=type_counts.index, autopct='%1.1f%%', startangle=140, colors=['skyblue', 'lightcoral','red','yellow'])\n",
    "plt.title('Object Distribution by Type (Satellite/Debris/payload/TBA)')\n",
    "plt.show()\n"
   ]
  },
  {
   "cell_type": "code",
   "execution_count": null,
   "id": "43f933be",
   "metadata": {},
   "outputs": [],
   "source": [
    "# Bar plot for country wise ownership of objects\n",
    "# Count objects per country\n",
    "country_counts = df['COUNTRY_CODE'].value_counts().head(10)  # Top 10 countries\n",
    "print(country_counts)\n",
    "# Bar plot\n",
    "plt.figure(figsize=(10,6))\n",
    "sns.barplot(x=country_counts.index, y=country_counts.values, palette='viridis')\n",
    "plt.title('Top 10 Countries by Number of Space Objects')\n",
    "plt.xlabel('Country Code')\n",
    "plt.ylabel('Number of Objects')\n",
    "plt.xticks(rotation=45)\n",
    "plt.grid(True)\n",
    "plt.show()"
   ]
  },
  {
   "cell_type": "code",
   "execution_count": null,
   "id": "7581c63b",
   "metadata": {},
   "outputs": [],
   "source": [
    "df.head(1)"
   ]
  },
  {
   "cell_type": "code",
   "execution_count": null,
   "id": "a2587a6e",
   "metadata": {},
   "outputs": [],
   "source": [
    "#  to group objects by size and object_type\n",
    "object_distribution_based_on_size = df.groupby(['RCS_SIZE','OBJECT_TYPE']).size().reset_index(name='COUNT')\n",
    "print(object_distribution_based_on_size)\n",
    "\n",
    "count_object = df['RCS_SIZE'].value_counts()\n",
    "print(count_object)\n"
   ]
  },
  {
   "cell_type": "code",
   "execution_count": null,
   "id": "c3271c2e",
   "metadata": {},
   "outputs": [],
   "source": [
    "\n",
    "count_object = df['OBJECT_TYPE'].value_counts()\n",
    "print(count_object)\n",
    "\n",
    "# Bar plot\n",
    "plt.figure(figsize=(10,6))\n",
    "sns.barplot(x=count_object.index, y=count_object.values, palette='viridis')\n",
    "plt.title(' Space Objects')\n",
    "plt.xlabel('Object Type')\n",
    "plt.ylabel('Number of Objects')\n",
    "plt.xticks(rotation=45)\n",
    "plt.grid(True)\n",
    "plt.show()\n"
   ]
  },
  {
   "cell_type": "code",
   "execution_count": null,
   "id": "a15c93f3",
   "metadata": {},
   "outputs": [],
   "source": [
    "print(df.columns)"
   ]
  },
  {
   "cell_type": "code",
   "execution_count": null,
   "id": "6f530c90",
   "metadata": {},
   "outputs": [],
   "source": []
  }
 ],
 "metadata": {
  "kernelspec": {
   "display_name": "test_env",
   "language": "python",
   "name": "test_env"
  },
  "language_info": {
   "codemirror_mode": {
    "name": "ipython",
    "version": 3
   },
   "file_extension": ".py",
   "mimetype": "text/x-python",
   "name": "python",
   "nbconvert_exporter": "python",
   "pygments_lexer": "ipython3",
   "version": "3.12.9"
  }
 },
 "nbformat": 4,
 "nbformat_minor": 5
}
